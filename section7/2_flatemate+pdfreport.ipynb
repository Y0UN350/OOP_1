{
 "cells": [
  {
   "cell_type": "code",
   "execution_count": 1,
   "metadata": {},
   "outputs": [],
   "source": [
    "class Bill:\n",
    "\n",
    "    def __init__(self, amount, period):\n",
    "        self.amount=amount\n",
    "        self.period=period\n",
    "\n",
    "\n",
    "class Flatmate:\n",
    "\n",
    "    def __init__(self, name, days_in_house):\n",
    "        self.name=name\n",
    "        self.days_in_house=days_in_house\n",
    "\n",
    "    def pays(self, bill, flatmate2):\n",
    "        weight= self.days_in_house/(self.days_in_house+flatmate2.days_in_house)\n",
    "        to_pay=bill.amount*weight\n",
    "        return to_pay\n",
    "\n",
    "class PdfReport:\n",
    "\n",
    "    def __init__(self, filename):\n",
    "        self.filename=filename\n",
    "\n",
    "    def generate(self, flatmate1, flatmate2, bill):\n",
    "        self.flatmate1=flatmate1\n",
    "        self.flatmate2=flatmate2\n",
    "        self.bill= bill\n",
    "\n",
    "\n",
    "the_bill=Bill(amount=120, period =\"March 2021\")\n",
    "john= Flatmate(name=\"john\", days_in_house=20)\n",
    "marry= Flatmate(name=\"marry\", days_in_house=35)\n",
    "\n"
   ]
  }
 ],
 "metadata": {
  "interpreter": {
   "hash": "dd9b0a8d96ef5ae9ae84e6e01fb9c1f2a0fadb56323d297b16d1e7a1bc40005c"
  },
  "kernelspec": {
   "display_name": "Python 3.10.0 ('tf26')",
   "language": "python",
   "name": "python3"
  },
  "language_info": {
   "codemirror_mode": {
    "name": "ipython",
    "version": 3
   },
   "file_extension": ".py",
   "mimetype": "text/x-python",
   "name": "python",
   "nbconvert_exporter": "python",
   "pygments_lexer": "ipython3",
   "version": "3.9.7"
  },
  "orig_nbformat": 4
 },
 "nbformat": 4,
 "nbformat_minor": 2
}
