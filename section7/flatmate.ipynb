{
 "cells": [
  {
   "cell_type": "code",
   "execution_count": 28,
   "metadata": {},
   "outputs": [],
   "source": [
    "class Bill:\n",
    "\n",
    "    def __init__(self, amount, period):\n",
    "        self.amount=amount\n",
    "        self.period=period\n",
    "\n",
    "\n",
    "class Flatmate:\n",
    "\n",
    "    def __init__(self, name, days_in_house):\n",
    "        self.name=name\n",
    "        self.days_in_house=days_in_house\n",
    "\n",
    "    def pays(self, bill, flatmate2):\n",
    "        weight= self.days_in_house/(self.days_in_house+flatmate2.days_in_house)\n",
    "        to_pay=bill.amount*weight\n",
    "        return to_pay\n",
    "\n",
    "class PdfReport:\n",
    "\n",
    "    def __init__(self, filename):\n",
    "        self.filename=filename\n",
    "\n",
    "    def generate(self, flatmate1, flatmate2, bill):\n",
    "        self.flatmate1=flatmate1\n",
    "        self.flatmate2=flatmate2\n",
    "        self.bill= bill\n",
    "\n",
    "\n",
    "the_bill=Bill(amount=120, period =\"March 2021\")\n",
    "john= Flatmate(name=\"john\", days_in_house=20)\n",
    "marry= Flatmate(name=\"marry\", days_in_house=35)\n",
    "\n"
   ]
  },
  {
   "cell_type": "code",
   "execution_count": 29,
   "metadata": {},
   "outputs": [
    {
     "data": {
      "text/plain": [
       "35"
      ]
     },
     "execution_count": 29,
     "metadata": {},
     "output_type": "execute_result"
    }
   ],
   "source": [
    "marry.name\n",
    "marry.days_in_house\n"
   ]
  },
  {
   "cell_type": "code",
   "execution_count": 30,
   "metadata": {},
   "outputs": [
    {
     "name": "stdout",
     "output_type": "stream",
     "text": [
      "john pays:  60.0\n"
     ]
    }
   ],
   "source": [
    "print(\"john pays: \",john.pays(bill=the_bill, flatmate2=john))"
   ]
  },
  {
   "cell_type": "code",
   "execution_count": 35,
   "metadata": {},
   "outputs": [
    {
     "data": {
      "text/plain": [
       "{1: 2, 2: 3, 3: 4, 5: 6}"
      ]
     },
     "execution_count": 35,
     "metadata": {},
     "output_type": "execute_result"
    }
   ],
   "source": [
    "numbers=[1,2,3,5]\n",
    "\n",
    "new_dict_comp = {n:n+1 for n in numbers}\n",
    "\n",
    "new_dict_comp\n"
   ]
  }
 ],
 "metadata": {
  "interpreter": {
   "hash": "aeec22cb21d99417408c8210fb3ade6de337c5a59ff9bf147a9d83374d5f18fc"
  },
  "kernelspec": {
   "display_name": "Python 3.9.7 ('base')",
   "language": "python",
   "name": "python3"
  },
  "language_info": {
   "codemirror_mode": {
    "name": "ipython",
    "version": 3
   },
   "file_extension": ".py",
   "mimetype": "text/x-python",
   "name": "python",
   "nbconvert_exporter": "python",
   "pygments_lexer": "ipython3",
   "version": "3.9.7"
  },
  "orig_nbformat": 4
 },
 "nbformat": 4,
 "nbformat_minor": 2
}
